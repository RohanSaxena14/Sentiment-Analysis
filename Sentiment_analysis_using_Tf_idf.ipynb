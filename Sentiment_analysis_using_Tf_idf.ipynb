{
  "nbformat": 4,
  "nbformat_minor": 0,
  "metadata": {
    "colab": {
      "name": "Sentiment_analysis_using_tf-idf.ipynb",
      "provenance": [],
      "collapsed_sections": [],
      "machine_shape": "hm",
      "include_colab_link": true
    },
    "kernelspec": {
      "name": "python3",
      "display_name": "Python 3"
    }
  },
  "cells": [
    {
      "cell_type": "markdown",
      "metadata": {
        "id": "view-in-github",
        "colab_type": "text"
      },
      "source": [
        "<a href=\"https://colab.research.google.com/github/RohanSaxena14/Sentiment-Analysis/blob/master/Sentiment_analysis_using_Tf_idf.ipynb\" target=\"_parent\"><img src=\"https://colab.research.google.com/assets/colab-badge.svg\" alt=\"Open In Colab\"/></a>"
      ]
    },
    {
      "cell_type": "markdown",
      "metadata": {
        "id": "XZZgKeaAqEVw",
        "colab_type": "text"
      },
      "source": [
        "# **We will be using \"IMDB reviews dataset\" for training our model.**\n",
        "\n",
        "\n",
        "1.   **Here we are first loading the dataset using pandas**\n",
        "2.   **Then we will clean all reviews as they have HTML tags in them.**\n",
        "\n"
      ]
    },
    {
      "cell_type": "code",
      "metadata": {
        "id": "uRX5l955cTHl",
        "colab_type": "code",
        "colab": {}
      },
      "source": [
        "import pandas as pd\n",
        "from bs4 import BeautifulSoup\n",
        "\n",
        "df = pd.read_csv(\"IMDB Dataset.csv\")\n",
        "\n",
        "\n",
        "for i in range(50000):\n",
        "  html = df.iloc[i, 0]\n",
        "  soup = BeautifulSoup(html)\n",
        "  text = soup.get_text()\n",
        "  df.iloc[i, 0] = text"
      ],
      "execution_count": 0,
      "outputs": []
    },
    {
      "cell_type": "markdown",
      "metadata": {
        "id": "M201tRLpq5sx",
        "colab_type": "text"
      },
      "source": [
        "**This is how our data looks like.**"
      ]
    },
    {
      "cell_type": "code",
      "metadata": {
        "id": "HAbr5Uw2g8uX",
        "colab_type": "code",
        "outputId": "bbb14da3-11bf-461b-bc68-e1a4405ffea7",
        "colab": {
          "base_uri": "https://localhost:8080/",
          "height": 202
        }
      },
      "source": [
        "df.head()"
      ],
      "execution_count": 0,
      "outputs": [
        {
          "output_type": "execute_result",
          "data": {
            "text/html": [
              "<div>\n",
              "<style scoped>\n",
              "    .dataframe tbody tr th:only-of-type {\n",
              "        vertical-align: middle;\n",
              "    }\n",
              "\n",
              "    .dataframe tbody tr th {\n",
              "        vertical-align: top;\n",
              "    }\n",
              "\n",
              "    .dataframe thead th {\n",
              "        text-align: right;\n",
              "    }\n",
              "</style>\n",
              "<table border=\"1\" class=\"dataframe\">\n",
              "  <thead>\n",
              "    <tr style=\"text-align: right;\">\n",
              "      <th></th>\n",
              "      <th>review</th>\n",
              "      <th>sentiment</th>\n",
              "    </tr>\n",
              "  </thead>\n",
              "  <tbody>\n",
              "    <tr>\n",
              "      <th>0</th>\n",
              "      <td>One of the other reviewers has mentioned that ...</td>\n",
              "      <td>positive</td>\n",
              "    </tr>\n",
              "    <tr>\n",
              "      <th>1</th>\n",
              "      <td>A wonderful little production. The filming tec...</td>\n",
              "      <td>positive</td>\n",
              "    </tr>\n",
              "    <tr>\n",
              "      <th>2</th>\n",
              "      <td>I thought this was a wonderful way to spend ti...</td>\n",
              "      <td>positive</td>\n",
              "    </tr>\n",
              "    <tr>\n",
              "      <th>3</th>\n",
              "      <td>Basically there's a family where a little boy ...</td>\n",
              "      <td>negative</td>\n",
              "    </tr>\n",
              "    <tr>\n",
              "      <th>4</th>\n",
              "      <td>Petter Mattei's \"Love in the Time of Money\" is...</td>\n",
              "      <td>positive</td>\n",
              "    </tr>\n",
              "  </tbody>\n",
              "</table>\n",
              "</div>"
            ],
            "text/plain": [
              "                                              review sentiment\n",
              "0  One of the other reviewers has mentioned that ...  positive\n",
              "1  A wonderful little production. The filming tec...  positive\n",
              "2  I thought this was a wonderful way to spend ti...  positive\n",
              "3  Basically there's a family where a little boy ...  negative\n",
              "4  Petter Mattei's \"Love in the Time of Money\" is...  positive"
            ]
          },
          "metadata": {
            "tags": []
          },
          "execution_count": 3
        }
      ]
    },
    {
      "cell_type": "markdown",
      "metadata": {
        "id": "lmFng2IZsXux",
        "colab_type": "text"
      },
      "source": [
        "#**We will be converting sentences into vectors using TfidfVectorizer**\n",
        "**to learn more about tf-idf, I refer this blog post here.**\n",
        "\n",
        "https://kavita-ganesan.com/tfidftransformer-tfidfvectorizer-usage-differences/#.XpVol8gzbzB"
      ]
    },
    {
      "cell_type": "code",
      "metadata": {
        "id": "m6pU94nnrHh7",
        "colab_type": "code",
        "colab": {}
      },
      "source": [
        "from sklearn.feature_extraction.text import TfidfVectorizer \n",
        " \n",
        "tfidf_vectorizer = TfidfVectorizer(use_idf=True, max_features = 5000, max_df = 0.7)\n",
        " \n",
        "tfidf_vectorizer_vectors = tfidf_vectorizer.fit_transform(list(df['review']))\n",
        "tfidf_vectorizer_vectors = tfidf_vectorizer_vectors.todense()"
      ],
      "execution_count": 0,
      "outputs": []
    },
    {
      "cell_type": "markdown",
      "metadata": {
        "id": "KYkf7uPotJfC",
        "colab_type": "text"
      },
      "source": [
        "#**After forming vectors, we now have to prepare numpy arrays which can be used for training and testing purposes**"
      ]
    },
    {
      "cell_type": "code",
      "metadata": {
        "id": "1HB20OeGtfHO",
        "colab_type": "code",
        "colab": {}
      },
      "source": [
        "import numpy as np\n",
        "\n",
        "labels = list(df[\"sentiment\"])\n",
        "\n",
        "labels = np.array([x==\"positive\" for x in labels]).astype(int)\n",
        "\n",
        "\n",
        "train_vectors = np.array(tfidf_vectorizer_vectors[:25000])\n",
        "test_vectors = np.array(tfidf_vectorizer_vectors[25000:])\n",
        "\n",
        "train_labels = labels[:25000].reshape(25000, 1)\n",
        "test_labels = labels[25000:]"
      ],
      "execution_count": 0,
      "outputs": []
    },
    {
      "cell_type": "markdown",
      "metadata": {
        "id": "Khhq84v5to9U",
        "colab_type": "text"
      },
      "source": [
        "**Here are the dimensions of our trainig data**"
      ]
    },
    {
      "cell_type": "code",
      "metadata": {
        "id": "1opzzT85BJfz",
        "colab_type": "code",
        "outputId": "5f124eff-2e65-4f3f-8af7-8a5bdb0b1b64",
        "colab": {
          "base_uri": "https://localhost:8080/",
          "height": 51
        }
      },
      "source": [
        "print(train_labels.shape)\n",
        "print(train_vectors.shape)"
      ],
      "execution_count": 0,
      "outputs": [
        {
          "output_type": "stream",
          "text": [
            "(25000, 1)\n",
            "(25000, 5000)\n"
          ],
          "name": "stdout"
        }
      ]
    },
    {
      "cell_type": "markdown",
      "metadata": {
        "id": "IfN2H5hQt2Ei",
        "colab_type": "text"
      },
      "source": [
        "#**We will be using keras for building our neural network**\n",
        "\n",
        "read more about it from here\n",
        "\n",
        "https://victorzhou.com/blog/keras-neural-network-tutorial/"
      ]
    },
    {
      "cell_type": "code",
      "metadata": {
        "id": "zsm_ZdWvB51b",
        "colab_type": "code",
        "colab": {}
      },
      "source": [
        "import tensorflow as tf\n",
        "\n",
        "model = tf.keras.Sequential([\n",
        "                             tf.keras.layers.Dense(800, activation = 'relu', input_dim = train_vectors.shape[1]),\n",
        "                             #tf.keras.layers.Dense(800, activation = 'relu'),\n",
        "                             #tf.keras.layers.Dense(800, activation = 'relu'),\n",
        "                             tf.keras.layers.Dense(200, activation = 'relu'),\n",
        "                             tf.keras.layers.Dense(1, activation = 'sigmoid')\n",
        "])"
      ],
      "execution_count": 0,
      "outputs": []
    },
    {
      "cell_type": "code",
      "metadata": {
        "id": "ZyXXGMhbEZ2R",
        "colab_type": "code",
        "colab": {}
      },
      "source": [
        "model.compile(optimizer = 'adam', loss = 'binary_crossentropy', metrics = ['accuracy'])"
      ],
      "execution_count": 0,
      "outputs": []
    },
    {
      "cell_type": "code",
      "metadata": {
        "id": "luy9EuE9EedI",
        "colab_type": "code",
        "outputId": "44017b41-bd4b-4308-d946-0ac4235faafc",
        "colab": {
          "base_uri": "https://localhost:8080/",
          "height": 141
        }
      },
      "source": [
        "model.fit(train_vectors, train_labels, epochs = 2, batch_size = 32, validation_split = 0.1)"
      ],
      "execution_count": 0,
      "outputs": [
        {
          "output_type": "stream",
          "text": [
            "Train on 22500 samples, validate on 2500 samples\n",
            "Epoch 1/2\n",
            "22500/22500 [==============================] - 14s 625us/sample - loss: 0.3202 - accuracy: 0.8618 - val_loss: 0.2884 - val_accuracy: 0.8728\n",
            "Epoch 2/2\n",
            "22500/22500 [==============================] - 14s 614us/sample - loss: 0.1859 - accuracy: 0.9252 - val_loss: 0.3549 - val_accuracy: 0.8660\n"
          ],
          "name": "stdout"
        },
        {
          "output_type": "execute_result",
          "data": {
            "text/plain": [
              "<tensorflow.python.keras.callbacks.History at 0x7f507b707a20>"
            ]
          },
          "metadata": {
            "tags": []
          },
          "execution_count": 22
        }
      ]
    },
    {
      "cell_type": "markdown",
      "metadata": {
        "id": "hMfN6PUvuf7K",
        "colab_type": "text"
      },
      "source": [
        "#**After training for just 2 epochs, we are able to achieve 87% accuracy on test data.**"
      ]
    },
    {
      "cell_type": "code",
      "metadata": {
        "id": "m6qqBu1buuOD",
        "colab_type": "code",
        "colab": {}
      },
      "source": [
        "loss, accuracy = model.evaluate(test_vectors, test_labels)\n",
        "print(\"Loss :- \", loss)\n",
        "print(\"Accuracy :- \", accuracy)\n",
        "\n",
        "\n",
        "# Accuracy:- 87%"
      ],
      "execution_count": 0,
      "outputs": []
    },
    {
      "cell_type": "markdown",
      "metadata": {
        "id": "UG8p5Hh9u2pN",
        "colab_type": "text"
      },
      "source": [
        "#**Lastly we would like to see, how well a simple Logistic Regressor can fit our data and it turns out that it is achieving slightly greater Accuracy over Neural network model.**\n",
        "\n",
        "**Note:- It is only because we are using a shallow neural net and its hyper parameters are not tuned very well, so feel free to experiment with it and you will deffinately be able to achieve much higher accuracy.**"
      ]
    },
    {
      "cell_type": "code",
      "metadata": {
        "id": "NanRmed_ysdH",
        "colab_type": "code",
        "outputId": "84b0228b-917d-4ad7-a6b4-b10948a39779",
        "colab": {
          "base_uri": "https://localhost:8080/",
          "height": 89
        }
      },
      "source": [
        "from sklearn.linear_model import LogisticRegression\n",
        "\n",
        "classifier = LogisticRegression()\n",
        "classifier.fit(train_vectors, train_labels)\n",
        "score = classifier.score(test_vectors, test_labels)\n",
        "\n",
        "print(\"Accuracy:\", score)"
      ],
      "execution_count": 0,
      "outputs": [
        {
          "output_type": "stream",
          "text": [
            "/usr/local/lib/python3.6/dist-packages/sklearn/utils/validation.py:760: DataConversionWarning: A column-vector y was passed when a 1d array was expected. Please change the shape of y to (n_samples, ), for example using ravel().\n",
            "  y = column_or_1d(y, warn=True)\n"
          ],
          "name": "stderr"
        },
        {
          "output_type": "stream",
          "text": [
            "Accuracy: 0.88824\n"
          ],
          "name": "stdout"
        }
      ]
    }
  ]
}