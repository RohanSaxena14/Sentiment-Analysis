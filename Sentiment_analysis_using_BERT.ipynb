{
  "nbformat": 4,
  "nbformat_minor": 0,
  "metadata": {
    "colab": {
      "name": "Sentiment_analysis.ipynb",
      "provenance": [],
      "collapsed_sections": [],
      "machine_shape": "hm",
      "authorship_tag": "ABX9TyO3NW6JnQ0ey19zRXa+CzP1",
      "include_colab_link": true
    },
    "kernelspec": {
      "name": "python3",
      "display_name": "Python 3"
    },
    "accelerator": "GPU"
  },
  "cells": [
    {
      "cell_type": "markdown",
      "metadata": {
        "id": "view-in-github",
        "colab_type": "text"
      },
      "source": [
        "<a href=\"https://colab.research.google.com/github/RohanSaxena14/Sentiment-Analysis/blob/master/Sentiment_analysis_using_BERT.ipynb\" target=\"_parent\"><img src=\"https://colab.research.google.com/assets/colab-badge.svg\" alt=\"Open In Colab\"/></a>"
      ]
    },
    {
      "cell_type": "markdown",
      "metadata": {
        "id": "EY_nn2Iy9Kz3",
        "colab_type": "text"
      },
      "source": [
        "#**Installing required packages**\n",
        "Read more about Bert-as-server from here\n",
        "\n",
        "https://bert-as-service.readthedocs.io/en/latest/"
      ]
    },
    {
      "cell_type": "code",
      "metadata": {
        "id": "U6mqe56n3lPE",
        "colab_type": "code",
        "colab": {}
      },
      "source": [
        "#Just initializing the bert's server and client \n",
        "!pip install tensorflow==1.15\n",
        "!pip install bert-serving-client\n",
        "!pip install -U bert-serving-server[http]"
      ],
      "execution_count": 0,
      "outputs": []
    },
    {
      "cell_type": "code",
      "metadata": {
        "id": "8wpfKinM3kvq",
        "colab_type": "code",
        "colab": {}
      },
      "source": [
        "#Downloading and unzipping the pre-trained bert model named \"uncased_L-12_H-768_A-12\"\n",
        "#if input is requested type \"A\"\n",
        "\n",
        "!wget https://storage.googleapis.com/bert_models/2018_10_18/uncased_L-12_H-768_A-12.zip\n",
        "!unzip uncased_L-12_H-768_A-12.zip\n",
        "!nohup bert-serving-start -model_dir=./uncased_L-12_H-768_A-12 > out.file 2>&1 &"
      ],
      "execution_count": 0,
      "outputs": []
    },
    {
      "cell_type": "code",
      "metadata": {
        "id": "2ct3Rvo93kgz",
        "colab_type": "code",
        "colab": {}
      },
      "source": [
        "#creating bert Client object\n",
        "\n",
        "from bert_serving.client import BertClient\n",
        "bc = BertClient()"
      ],
      "execution_count": 0,
      "outputs": []
    },
    {
      "cell_type": "code",
      "metadata": {
        "id": "UinluKdB3j0-",
        "colab_type": "code",
        "colab": {
          "base_uri": "https://localhost:8080/",
          "height": 34
        },
        "outputId": "2232c951-e718-4dc3-adca-562dfbfbc1bd"
      },
      "source": [
        "import tensorflow\n",
        "\n",
        "print(tensorflow.__version__)"
      ],
      "execution_count": 12,
      "outputs": [
        {
          "output_type": "stream",
          "text": [
            "1.15.0\n"
          ],
          "name": "stdout"
        }
      ]
    },
    {
      "cell_type": "markdown",
      "metadata": {
        "id": "XZZgKeaAqEVw",
        "colab_type": "text"
      },
      "source": [
        "# **We will be using \"IMDB reviews dataset\" for training our model.**\n",
        "\n",
        "\n",
        "1.   **Here we are first loading the dataset using pandas**\n",
        "2.   **Then we will clean all reviews as they have HTML tags in them.**\n",
        "\n"
      ]
    },
    {
      "cell_type": "code",
      "metadata": {
        "id": "uRX5l955cTHl",
        "colab_type": "code",
        "colab": {}
      },
      "source": [
        "import pandas as pd\n",
        "from bs4 import BeautifulSoup\n",
        "\n",
        "df = pd.read_csv(\"IMDB Dataset.csv\")\n",
        "\n",
        "\n",
        "for i in range(50000):\n",
        "  html = df.iloc[i, 0]\n",
        "  soup = BeautifulSoup(html)\n",
        "  text = soup.get_text()\n",
        "  df.iloc[i, 0] = text"
      ],
      "execution_count": 0,
      "outputs": []
    },
    {
      "cell_type": "markdown",
      "metadata": {
        "id": "M201tRLpq5sx",
        "colab_type": "text"
      },
      "source": [
        "**This is how our data looks like.**"
      ]
    },
    {
      "cell_type": "code",
      "metadata": {
        "id": "HAbr5Uw2g8uX",
        "colab_type": "code",
        "outputId": "a68f710c-911f-4a32-ba30-be004330e857",
        "colab": {
          "base_uri": "https://localhost:8080/",
          "height": 202
        }
      },
      "source": [
        "df.head()"
      ],
      "execution_count": 14,
      "outputs": [
        {
          "output_type": "execute_result",
          "data": {
            "text/html": [
              "<div>\n",
              "<style scoped>\n",
              "    .dataframe tbody tr th:only-of-type {\n",
              "        vertical-align: middle;\n",
              "    }\n",
              "\n",
              "    .dataframe tbody tr th {\n",
              "        vertical-align: top;\n",
              "    }\n",
              "\n",
              "    .dataframe thead th {\n",
              "        text-align: right;\n",
              "    }\n",
              "</style>\n",
              "<table border=\"1\" class=\"dataframe\">\n",
              "  <thead>\n",
              "    <tr style=\"text-align: right;\">\n",
              "      <th></th>\n",
              "      <th>review</th>\n",
              "      <th>sentiment</th>\n",
              "    </tr>\n",
              "  </thead>\n",
              "  <tbody>\n",
              "    <tr>\n",
              "      <th>0</th>\n",
              "      <td>One of the other reviewers has mentioned that ...</td>\n",
              "      <td>positive</td>\n",
              "    </tr>\n",
              "    <tr>\n",
              "      <th>1</th>\n",
              "      <td>A wonderful little production. The filming tec...</td>\n",
              "      <td>positive</td>\n",
              "    </tr>\n",
              "    <tr>\n",
              "      <th>2</th>\n",
              "      <td>I thought this was a wonderful way to spend ti...</td>\n",
              "      <td>positive</td>\n",
              "    </tr>\n",
              "    <tr>\n",
              "      <th>3</th>\n",
              "      <td>Basically there's a family where a little boy ...</td>\n",
              "      <td>negative</td>\n",
              "    </tr>\n",
              "    <tr>\n",
              "      <th>4</th>\n",
              "      <td>Petter Mattei's \"Love in the Time of Money\" is...</td>\n",
              "      <td>positive</td>\n",
              "    </tr>\n",
              "  </tbody>\n",
              "</table>\n",
              "</div>"
            ],
            "text/plain": [
              "                                              review sentiment\n",
              "0  One of the other reviewers has mentioned that ...  positive\n",
              "1  A wonderful little production. The filming tec...  positive\n",
              "2  I thought this was a wonderful way to spend ti...  positive\n",
              "3  Basically there's a family where a little boy ...  negative\n",
              "4  Petter Mattei's \"Love in the Time of Money\" is...  positive"
            ]
          },
          "metadata": {
            "tags": []
          },
          "execution_count": 14
        }
      ]
    },
    {
      "cell_type": "markdown",
      "metadata": {
        "id": "lmFng2IZsXux",
        "colab_type": "text"
      },
      "source": [
        "#**We will be converting sentences into vectors using BERT pre-trained model**\n",
        "**to learn more about BERT, I refer this post here.**\n",
        "\n",
        "https://www.searchenginejournal.com/bert-explained-what-you-need-to-know-about-googles-new-algorithm/337247/"
      ]
    },
    {
      "cell_type": "code",
      "metadata": {
        "id": "EnRAVuB390BR",
        "colab_type": "code",
        "colab": {
          "base_uri": "https://localhost:8080/",
          "height": 141
        },
        "outputId": "44dfa128-de22-4426-ad35-8bca970139d1"
      },
      "source": [
        "BERT_vectors = bc.encode(list(df['review']))\n",
        "\n",
        "print(BERT_vectors.shape)"
      ],
      "execution_count": 16,
      "outputs": [
        {
          "output_type": "stream",
          "text": [
            "/usr/local/lib/python3.6/dist-packages/bert_serving/client/__init__.py:299: UserWarning: some of your sentences have more tokens than \"max_seq_len=25\" set on the server, as consequence you may get less-accurate or truncated embeddings.\n",
            "here is what you can do:\n",
            "- disable the length-check by create a new \"BertClient(check_length=False)\" when you do not want to display this warning\n",
            "- or, start a new server with a larger \"max_seq_len\"\n",
            "  '- or, start a new server with a larger \"max_seq_len\"' % self.length_limit)\n"
          ],
          "name": "stderr"
        },
        {
          "output_type": "stream",
          "text": [
            "(50000, 768)\n"
          ],
          "name": "stdout"
        }
      ]
    },
    {
      "cell_type": "markdown",
      "metadata": {
        "id": "KYkf7uPotJfC",
        "colab_type": "text"
      },
      "source": [
        "#**After forming vectors, we now have to prepare numpy arrays which can be used for training and testing purposes**"
      ]
    },
    {
      "cell_type": "code",
      "metadata": {
        "id": "1HB20OeGtfHO",
        "colab_type": "code",
        "colab": {}
      },
      "source": [
        "import numpy as np\n",
        "\n",
        "labels = list(df[\"sentiment\"])\n",
        "\n",
        "labels = np.array([x==\"positive\" for x in labels]).astype(int)\n",
        "\n",
        "\n",
        "train_vectors = np.array(BERT_vectors[:25000])\n",
        "test_vectors = np.array(BERT_vectors[25000:])\n",
        "\n",
        "train_labels = labels[:25000].reshape(25000, 1)\n",
        "test_labels = labels[25000:]"
      ],
      "execution_count": 0,
      "outputs": []
    },
    {
      "cell_type": "markdown",
      "metadata": {
        "id": "Khhq84v5to9U",
        "colab_type": "text"
      },
      "source": [
        "**Here are the dimensions of our trainig data**"
      ]
    },
    {
      "cell_type": "code",
      "metadata": {
        "id": "1opzzT85BJfz",
        "colab_type": "code",
        "outputId": "fd8d1542-fe22-4c50-faff-d22f96605be8",
        "colab": {
          "base_uri": "https://localhost:8080/",
          "height": 51
        }
      },
      "source": [
        "print(train_labels.shape)\n",
        "print(train_vectors.shape)"
      ],
      "execution_count": 18,
      "outputs": [
        {
          "output_type": "stream",
          "text": [
            "(25000, 1)\n",
            "(25000, 768)\n"
          ],
          "name": "stdout"
        }
      ]
    },
    {
      "cell_type": "markdown",
      "metadata": {
        "id": "IfN2H5hQt2Ei",
        "colab_type": "text"
      },
      "source": [
        "#**We will be using keras for building our neural network**\n",
        "\n",
        "read more about it from here\n",
        "\n",
        "https://victorzhou.com/blog/keras-neural-network-tutorial/"
      ]
    },
    {
      "cell_type": "code",
      "metadata": {
        "id": "zsm_ZdWvB51b",
        "colab_type": "code",
        "colab": {}
      },
      "source": [
        "import tensorflow as tf\n",
        "\n",
        "model = tf.keras.Sequential([\n",
        "                             tf.keras.layers.Dense(200, activation = 'relu', input_dim = train_vectors.shape[1]),\n",
        "                             #tf.keras.layers.Dense(800, activation = 'relu'),\n",
        "                             #tf.keras.layers.Dense(800, activation = 'relu'),\n",
        "                             #tf.keras.layers.Dense(200, activation = 'relu'),\n",
        "                             tf.keras.layers.Dense(1, activation = 'sigmoid')\n",
        "])"
      ],
      "execution_count": 0,
      "outputs": []
    },
    {
      "cell_type": "code",
      "metadata": {
        "id": "ZyXXGMhbEZ2R",
        "colab_type": "code",
        "colab": {}
      },
      "source": [
        "model.compile(optimizer = 'adam', loss = 'binary_crossentropy', metrics = ['accuracy'])"
      ],
      "execution_count": 0,
      "outputs": []
    },
    {
      "cell_type": "code",
      "metadata": {
        "id": "luy9EuE9EedI",
        "colab_type": "code",
        "outputId": "41149dce-7334-43df-beb5-454f5dd64d0f",
        "colab": {
          "base_uri": "https://localhost:8080/",
          "height": 398
        }
      },
      "source": [
        "model.fit(train_vectors, train_labels, epochs = 10, batch_size = 32, validation_split = 0.1)"
      ],
      "execution_count": 29,
      "outputs": [
        {
          "output_type": "stream",
          "text": [
            "Train on 22500 samples, validate on 2500 samples\n",
            "Epoch 1/10\n",
            "22500/22500 [==============================] - 2s 67us/sample - loss: 0.5762 - acc: 0.6919 - val_loss: 0.5548 - val_acc: 0.7104\n",
            "Epoch 2/10\n",
            "22500/22500 [==============================] - 1s 63us/sample - loss: 0.5351 - acc: 0.7211 - val_loss: 0.5422 - val_acc: 0.7156\n",
            "Epoch 3/10\n",
            "22500/22500 [==============================] - 1s 63us/sample - loss: 0.5133 - acc: 0.7372 - val_loss: 0.5456 - val_acc: 0.7184\n",
            "Epoch 4/10\n",
            "22500/22500 [==============================] - 1s 63us/sample - loss: 0.4938 - acc: 0.7486 - val_loss: 0.5504 - val_acc: 0.7232\n",
            "Epoch 5/10\n",
            "22500/22500 [==============================] - 1s 63us/sample - loss: 0.4666 - acc: 0.7723 - val_loss: 0.5574 - val_acc: 0.7132\n",
            "Epoch 6/10\n",
            "22500/22500 [==============================] - 1s 62us/sample - loss: 0.4426 - acc: 0.7895 - val_loss: 0.5587 - val_acc: 0.7196\n",
            "Epoch 7/10\n",
            "22500/22500 [==============================] - 1s 62us/sample - loss: 0.4098 - acc: 0.8129 - val_loss: 0.5902 - val_acc: 0.7084\n",
            "Epoch 8/10\n",
            "22500/22500 [==============================] - 1s 61us/sample - loss: 0.3798 - acc: 0.8278 - val_loss: 0.5963 - val_acc: 0.6992\n",
            "Epoch 9/10\n",
            "22500/22500 [==============================] - 1s 62us/sample - loss: 0.3470 - acc: 0.8473 - val_loss: 0.6331 - val_acc: 0.7056\n",
            "Epoch 10/10\n",
            "22500/22500 [==============================] - 1s 60us/sample - loss: 0.3061 - acc: 0.8714 - val_loss: 0.6374 - val_acc: 0.6952\n"
          ],
          "name": "stdout"
        },
        {
          "output_type": "execute_result",
          "data": {
            "text/plain": [
              "<tensorflow.python.keras.callbacks.History at 0x7f3767785c18>"
            ]
          },
          "metadata": {
            "tags": []
          },
          "execution_count": 29
        }
      ]
    },
    {
      "cell_type": "markdown",
      "metadata": {
        "id": "hMfN6PUvuf7K",
        "colab_type": "text"
      },
      "source": [
        "#**After training for 10 epochs, we are able to achieve 70% accuracy on test data.**"
      ]
    },
    {
      "cell_type": "code",
      "metadata": {
        "id": "m6qqBu1buuOD",
        "colab_type": "code",
        "outputId": "702729a5-292d-427b-b845-a14c8a0f5959",
        "colab": {
          "base_uri": "https://localhost:8080/",
          "height": 69
        }
      },
      "source": [
        "loss, accuracy = model.evaluate(test_vectors, test_labels)\n",
        "print(\"Loss :- \", loss)\n",
        "print(\"Accuracy :- \", accuracy)"
      ],
      "execution_count": 25,
      "outputs": [
        {
          "output_type": "stream",
          "text": [
            "25000/25000 [==============================] - 1s 33us/sample - loss: 0.9592 - acc: 0.6924\n",
            "Loss :-  0.9591589849090576\n",
            "Accuracy :-  0.6924\n"
          ],
          "name": "stdout"
        }
      ]
    },
    {
      "cell_type": "markdown",
      "metadata": {
        "colab_type": "text",
        "id": "ej1XG94DwazQ"
      },
      "source": [
        "#**Lastly we would like to see, how well a simple Logistic Regressor can fit our data and it turns out that it is achieving slightly greater Accuracy over Neural network model.**\n",
        "\n",
        "**Note:- It is only because we are using a shallow neural net and its hyper parameters are not tuned very well, so feel free to experiment with it and you will deffinately be able to achieve much higher accuracy.**"
      ]
    },
    {
      "cell_type": "code",
      "metadata": {
        "id": "NanRmed_ysdH",
        "colab_type": "code",
        "outputId": "978fae97-c3e6-4666-8921-61bfa7c4dd4b",
        "colab": {
          "base_uri": "https://localhost:8080/",
          "height": 227
        }
      },
      "source": [
        "from sklearn.linear_model import LogisticRegression\n",
        "\n",
        "classifier = LogisticRegression()\n",
        "classifier.fit(train_vectors, train_labels)\n",
        "score = classifier.score(test_vectors, test_labels)\n",
        "\n",
        "print(\"Accuracy:\", score)"
      ],
      "execution_count": 26,
      "outputs": [
        {
          "output_type": "stream",
          "text": [
            "/usr/local/lib/python3.6/dist-packages/sklearn/utils/validation.py:760: DataConversionWarning: A column-vector y was passed when a 1d array was expected. Please change the shape of y to (n_samples, ), for example using ravel().\n",
            "  y = column_or_1d(y, warn=True)\n"
          ],
          "name": "stderr"
        },
        {
          "output_type": "stream",
          "text": [
            "Accuracy: 0.70892\n"
          ],
          "name": "stdout"
        },
        {
          "output_type": "stream",
          "text": [
            "/usr/local/lib/python3.6/dist-packages/sklearn/linear_model/_logistic.py:940: ConvergenceWarning: lbfgs failed to converge (status=1):\n",
            "STOP: TOTAL NO. of ITERATIONS REACHED LIMIT.\n",
            "\n",
            "Increase the number of iterations (max_iter) or scale the data as shown in:\n",
            "    https://scikit-learn.org/stable/modules/preprocessing.html\n",
            "Please also refer to the documentation for alternative solver options:\n",
            "    https://scikit-learn.org/stable/modules/linear_model.html#logistic-regression\n",
            "  extra_warning_msg=_LOGISTIC_SOLVER_CONVERGENCE_MSG)\n"
          ],
          "name": "stderr"
        }
      ]
    }
  ]
}